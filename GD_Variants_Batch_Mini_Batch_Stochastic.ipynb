{
  "nbformat": 4,
  "nbformat_minor": 0,
  "metadata": {
    "kernelspec": {
      "display_name": "Python 3",
      "language": "python",
      "name": "python3"
    },
    "language_info": {
      "codemirror_mode": {
        "name": "ipython",
        "version": 3
      },
      "file_extension": ".py",
      "mimetype": "text/x-python",
      "name": "python",
      "nbconvert_exporter": "python",
      "pygments_lexer": "ipython3",
      "version": "3.8.5"
    },
    "colab": {
      "name": "(Gena Magdy) Practical Session 2 GD Variants Batch - Mini-Batch - Stochastic.ipynb",
      "provenance": [],
      "include_colab_link": true
    }
  },
  "cells": [
    {
      "cell_type": "markdown",
      "metadata": {
        "id": "view-in-github",
        "colab_type": "text"
      },
      "source": [
        "<a href=\"https://colab.research.google.com/github/GENAMAGDY/Numerical_Optimization/blob/main/GD_Variants_Batch_Mini_Batch_Stochastic.ipynb\" target=\"_parent\"><img src=\"https://colab.research.google.com/assets/colab-badge.svg\" alt=\"Open In Colab\"/></a>"
      ]
    },
    {
      "cell_type": "markdown",
      "metadata": {
        "id": "bl4ObrwBw7wi"
      },
      "source": [
        "## Practical Work 2"
      ]
    },
    {
      "cell_type": "markdown",
      "metadata": {
        "id": "pwA_7Yfiw7wp"
      },
      "source": [
        "For this practical work, the student will have to develop a Python program that is able to implement the gradient descent variants (Batch/Mini-Batch/Stochastic) in order to achieve the linear regression of a set of datapoints."
      ]
    },
    {
      "cell_type": "markdown",
      "metadata": {
        "id": "tCZB-E_Ew7wq"
      },
      "source": [
        "#### Import numpy, matplotlib.pyplot and make it inline"
      ]
    },
    {
      "cell_type": "code",
      "metadata": {
        "id": "FE6E3WMZw7wq"
      },
      "source": [
        "import numpy as np\n",
        "import matplotlib.pyplot as plt\n",
        "from sklearn.metrics import r2_score"
      ],
      "execution_count": null,
      "outputs": []
    },
    {
      "cell_type": "markdown",
      "metadata": {
        "id": "c6MIn_1Jw7ws"
      },
      "source": [
        "To have a dataset or set of data points, the student must generate a pair of arrays <b>X</b> and <b>y</b> with the values in <b>X</b> equally distributed between <b>0</b> and <b>20</b> and the values in <b>y</b> such that: \n",
        "<b>yi = a*xi + b (and a = -2, b = 1)</b>\n"
      ]
    },
    {
      "cell_type": "code",
      "metadata": {
        "id": "h4r8y_ogw7ws"
      },
      "source": [
        "X = np.linspace(0,20)\n",
        "Y =  -2 * X +1"
      ],
      "execution_count": null,
      "outputs": []
    },
    {
      "cell_type": "code",
      "metadata": {
        "id": "rWERXXtFw7wt",
        "outputId": "19e02cc2-d663-4b22-becf-89f541193346"
      },
      "source": [
        "print(\"X =\", X)\n",
        "print(\"Y =\", Y)"
      ],
      "execution_count": null,
      "outputs": [
        {
          "output_type": "stream",
          "text": [
            "X = [ 0.          0.40816327  0.81632653  1.2244898   1.63265306  2.04081633\n",
            "  2.44897959  2.85714286  3.26530612  3.67346939  4.08163265  4.48979592\n",
            "  4.89795918  5.30612245  5.71428571  6.12244898  6.53061224  6.93877551\n",
            "  7.34693878  7.75510204  8.16326531  8.57142857  8.97959184  9.3877551\n",
            "  9.79591837 10.20408163 10.6122449  11.02040816 11.42857143 11.83673469\n",
            " 12.24489796 12.65306122 13.06122449 13.46938776 13.87755102 14.28571429\n",
            " 14.69387755 15.10204082 15.51020408 15.91836735 16.32653061 16.73469388\n",
            " 17.14285714 17.55102041 17.95918367 18.36734694 18.7755102  19.18367347\n",
            " 19.59183673 20.        ]\n",
            "Y = [  1.           0.18367347  -0.63265306  -1.44897959  -2.26530612\n",
            "  -3.08163265  -3.89795918  -4.71428571  -5.53061224  -6.34693878\n",
            "  -7.16326531  -7.97959184  -8.79591837  -9.6122449  -10.42857143\n",
            " -11.24489796 -12.06122449 -12.87755102 -13.69387755 -14.51020408\n",
            " -15.32653061 -16.14285714 -16.95918367 -17.7755102  -18.59183673\n",
            " -19.40816327 -20.2244898  -21.04081633 -21.85714286 -22.67346939\n",
            " -23.48979592 -24.30612245 -25.12244898 -25.93877551 -26.75510204\n",
            " -27.57142857 -28.3877551  -29.20408163 -30.02040816 -30.83673469\n",
            " -31.65306122 -32.46938776 -33.28571429 -34.10204082 -34.91836735\n",
            " -35.73469388 -36.55102041 -37.36734694 -38.18367347 -39.        ]\n"
          ],
          "name": "stdout"
        }
      ]
    },
    {
      "cell_type": "markdown",
      "metadata": {
        "id": "UcyMCrA7w7wu"
      },
      "source": [
        "#### Use your code from practical session 1 and create a function to perform GD for single variable linear regression.\n",
        "#### The function should take the following input parameters:\n",
        "##### Input data (X), Target Labels (y), Learning Rate (alpha), Maximum number of iterations\n",
        "#### The function should return the following:\n",
        "##### All Theta_0 and Theta_1 values till converge, and equivellant Losses, all hypothesis output, and optimum values of Theta_0 and Theta_1\n",
        "#### Note: you can choose any suitable stop criteria."
      ]
    },
    {
      "cell_type": "code",
      "metadata": {
        "id": "0nih7gARw7ww"
      },
      "source": [
        "def GradientDescent(X,Y,Learning_Rate,Iteration):\n",
        "    Theta =[0,0]\n",
        "    m = len(X)\n",
        "   \n",
        "    Loss_history = []\n",
        "    Theta_0_his=[]\n",
        "    Hypotheses_history =[]\n",
        "    Theta_1_his =[]\n",
        "    i =0\n",
        "    for i in range(Iteration):\n",
        "        Hypotheses = Theta[0] + Theta[1]*X\n",
        "        Hypotheses_history.append(Hypotheses)\n",
        "        CostFn = (1/(2*m))*np.sum((Hypotheses - Y)**2)\n",
        "        Loss_history.append(CostFn)\n",
        "        Theta[0] -= (Learning_Rate/m)*np.sum(Hypotheses - Y)\n",
        "        Theta_0_his.append(Theta[0])\n",
        "        Theta[1] -= (Learning_Rate/m)*np.sum((Hypotheses - Y)*X)\n",
        "        Theta_1_his.append(Theta[1])\n",
        "        \n",
        "        error = (1/m)*np.sum(Hypotheses - Y)\n",
        "        if error <= 0.001:\n",
        "            break\n",
        "        \n",
        "    print(\"Number of Iteration Stop =\",i)\n",
        "    Hypotheses = Theta[0] + Theta[1]*X\n",
        "    Hypotheses_history.append(Hypotheses)\n",
        "    CostFn = (1/(2*m))*np.sum((Hypotheses - Y)**2)\n",
        "    return Loss_history ,Theta_0_his  ,Theta_1_his,Hypotheses_history,Theta"
      ],
      "execution_count": null,
      "outputs": []
    },
    {
      "cell_type": "markdown",
      "metadata": {
        "id": "-YfPd0lmw7wx"
      },
      "source": [
        "#### Try your function with any input parameterss of your choice."
      ]
    },
    {
      "cell_type": "code",
      "metadata": {
        "id": "NWdMMPGRw7wx",
        "outputId": "59c3861c-cf8c-42b5-da4d-eae692c8c72e"
      },
      "source": [
        "Loss_history ,Theta_0_his  ,Theta_1_his,Hypotheses_history,Theta = GradientDescent(X,Y,0.001,100)\n",
        "Theta"
      ],
      "execution_count": null,
      "outputs": [
        {
          "output_type": "stream",
          "text": [
            "Number of Iteration Stop = 29\n"
          ],
          "name": "stdout"
        },
        {
          "output_type": "execute_result",
          "data": {
            "text/plain": [
              "[-0.13189025415294872, -1.8913454996474413]"
            ]
          },
          "metadata": {
            "tags": []
          },
          "execution_count": 16
        }
      ]
    },
    {
      "cell_type": "markdown",
      "metadata": {
        "id": "l8XqPvXKw7wy"
      },
      "source": [
        "#### Calculate r2 score"
      ]
    },
    {
      "cell_type": "code",
      "metadata": {
        "id": "pWwRHqgqw7wz",
        "outputId": "d92fc359-bf16-4ce3-ac5d-565587f9b051"
      },
      "source": [
        "print(\"Score = \", r2_score(Y, Hypotheses))"
      ],
      "execution_count": null,
      "outputs": [
        {
          "output_type": "stream",
          "text": [
            "Score =  0.9976984742382373\n"
          ],
          "name": "stdout"
        }
      ]
    },
    {
      "cell_type": "markdown",
      "metadata": {
        "id": "Z0-M9kVTw7wz"
      },
      "source": [
        "#### Plot loss vs. epochs"
      ]
    },
    {
      "cell_type": "code",
      "metadata": {
        "id": "T90LDsgpw7wz",
        "outputId": "60a4426f-7975-4a2d-e2b1-b76bd321cc9b"
      },
      "source": [
        "plt.plot(Loss_history)\n",
        "plt.show()"
      ],
      "execution_count": null,
      "outputs": [
        {
          "output_type": "display_data",
          "data": {
            "image/png": "[encoded data removed]",
            "text/plain": [
              "<Figure size 432x288 with 1 Axes>"
            ]
          },
          "metadata": {
            "tags": [],
            "needs_background": "light"
          }
        }
      ]
    },
    {
      "cell_type": "markdown",
      "metadata": {
        "id": "yQYAiJ5jw7w0"
      },
      "source": [
        "#### Plot Theta_0 vs. loss and Theta_1 vs. loss"
      ]
    },
    {
      "cell_type": "code",
      "metadata": {
        "id": "M0joe1Q9w7w0",
        "outputId": "78b1d065-4f7d-491d-e8ae-cff293454132"
      },
      "source": [
        "plt.plot(Theta_0_his,Loss_history)\n",
        "plt.show()"
      ],
      "execution_count": null,
      "outputs": [
        {
          "output_type": "display_data",
          "data": {
            "image/png": "[encoded data removed]",
            "text/plain": [
              "<Figure size 432x288 with 1 Axes>"
            ]
          },
          "metadata": {
            "tags": [],
            "needs_background": "light"
          }
        }
      ]
    },
    {
      "cell_type": "code",
      "metadata": {
        "id": "gc1kh-JHw7w1",
        "outputId": "5193dbd6-6233-44dc-8646-bc3d611cb4d1"
      },
      "source": [
        "plt.plot(Theta_1_his,Loss_history)\n",
        "plt.show()"
      ],
      "execution_count": null,
      "outputs": [
        {
          "output_type": "display_data",
          "data": {
            "image/png": "[encoded data removed]",
            "text/plain": [
              "<Figure size 432x288 with 1 Axes>"
            ]
          },
          "metadata": {
            "tags": [],
            "needs_background": "light"
          }
        }
      ]
    },
    {
      "cell_type": "markdown",
      "metadata": {
        "id": "8QyGDInAw7w1"
      },
      "source": [
        "#### Plot all regression lines till converge"
      ]
    },
    {
      "cell_type": "code",
      "metadata": {
        "id": "jpXpKxjtw7w2",
        "outputId": "d71f8940-8dba-42ca-85e6-891700102e32"
      },
      "source": [
        "plt.scatter(X,Y)\n",
        "for h in Hypotheses_history:\n",
        "    plt.plot(X,h , color='Red')\n",
        "plt.show()"
      ],
      "execution_count": null,
      "outputs": [
        {
          "output_type": "display_data",
          "data": {
            "image/png": "[encoded data removed]",
            "text/plain": [
              "<Figure size 432x288 with 1 Axes>"
            ]
          },
          "metadata": {
            "tags": [],
            "needs_background": "light"
          }
        }
      ]
    },
    {
      "cell_type": "markdown",
      "metadata": {
        "id": "MVhE80iAw7w3"
      },
      "source": [
        "#### Plot the best regression line"
      ]
    },
    {
      "cell_type": "code",
      "metadata": {
        "id": "XGPxcyG1w7w3",
        "outputId": "764cf3b3-2b1c-4618-9dd0-d0e6849bee4c"
      },
      "source": [
        "plt.scatter(X,Y)\n",
        "plt.plot(X,Hypotheses_history[-1] , color='Red')\n",
        "plt.show()"
      ],
      "execution_count": null,
      "outputs": [
        {
          "output_type": "display_data",
          "data": {
            "image/png": "[encoded data removed]",
            "text/plain": [
              "<Figure size 432x288 with 1 Axes>"
            ]
          },
          "metadata": {
            "tags": [],
            "needs_background": "light"
          }
        }
      ]
    },
    {
      "cell_type": "markdown",
      "metadata": {
        "id": "MVZF59Q5w7w4"
      },
      "source": [
        "#### Try different learning rate and number of iterations then plot loss vs. epochs, loss vs. Theat_0 and Theta_1\n",
        "#### all regression lines till converge, and the best regression line\n",
        "#### and see the difference in output."
      ]
    },
    {
      "cell_type": "code",
      "metadata": {
        "id": "2_Xupfqlw7w4"
      },
      "source": [
        ""
      ],
      "execution_count": null,
      "outputs": []
    },
    {
      "cell_type": "code",
      "metadata": {
        "id": "PTp54qwrw7w5"
      },
      "source": [
        ""
      ],
      "execution_count": null,
      "outputs": []
    },
    {
      "cell_type": "code",
      "metadata": {
        "id": "-wOlmiA8w7w5"
      },
      "source": [
        ""
      ],
      "execution_count": null,
      "outputs": []
    },
    {
      "cell_type": "code",
      "metadata": {
        "id": "6z0f5mcbw7w5"
      },
      "source": [
        ""
      ],
      "execution_count": null,
      "outputs": []
    },
    {
      "cell_type": "code",
      "metadata": {
        "id": "VEZUcEFgw7w6"
      },
      "source": [
        ""
      ],
      "execution_count": null,
      "outputs": []
    },
    {
      "cell_type": "code",
      "metadata": {
        "id": "v0WK6Cdew7w6"
      },
      "source": [
        ""
      ],
      "execution_count": null,
      "outputs": []
    },
    {
      "cell_type": "code",
      "metadata": {
        "id": "AXS_cwo4w7w6"
      },
      "source": [
        ""
      ],
      "execution_count": null,
      "outputs": []
    },
    {
      "cell_type": "code",
      "metadata": {
        "id": "e8RVeK9sw7w7"
      },
      "source": [
        ""
      ],
      "execution_count": null,
      "outputs": []
    },
    {
      "cell_type": "code",
      "metadata": {
        "id": "0SuFAR4Qw7w7"
      },
      "source": [
        ""
      ],
      "execution_count": null,
      "outputs": []
    },
    {
      "cell_type": "code",
      "metadata": {
        "id": "NwBpfnMKw7w7"
      },
      "source": [
        ""
      ],
      "execution_count": null,
      "outputs": []
    },
    {
      "cell_type": "code",
      "metadata": {
        "id": "ihBnJq8Kw7w7"
      },
      "source": [
        ""
      ],
      "execution_count": null,
      "outputs": []
    },
    {
      "cell_type": "code",
      "metadata": {
        "id": "FQTpQxfSw7w8"
      },
      "source": [
        ""
      ],
      "execution_count": null,
      "outputs": []
    },
    {
      "cell_type": "markdown",
      "metadata": {
        "id": "Wr0N79bZw7w8"
      },
      "source": [
        "#### Update the implementation of the Batch GD to be Mini-Batch and rpeat the above plots and evaluations\n",
        "#### Change batch size and see the effect"
      ]
    },
    {
      "cell_type": "code",
      "metadata": {
        "id": "7KHcVIOfw7w9"
      },
      "source": [
        "def Divide_Batches(X,Y,NO_Batches):\n",
        "    X_Batches=[]\n",
        "    Y_Batches=[]\n",
        "    Batch_Size = int(len(X)/NO_Batches)\n",
        "    index=0\n",
        "    for i in range(NO_Batches):\n",
        "        if len(X) - index == 0:\n",
        "            break\n",
        "        elif len(X) - index < Batch_Size:\n",
        "            X_Batches.append(X[index:])\n",
        "            Y_Batches.append(Y[index:])\n",
        "        else:\n",
        "            X_Batches.append(X[index:index+Batch_Size])\n",
        "            Y_Batches.append(Y[index:index+Batch_Size])\n",
        "            index+=Batch_Size\n",
        "    return X_Batches ,Y_Batches"
      ],
      "execution_count": null,
      "outputs": []
    },
    {
      "cell_type": "code",
      "metadata": {
        "id": "gEbgxqXRw7w9"
      },
      "source": [
        "def Mini_Batch_GD(X,Y, Learnig_rate,Epochs, No_Batches):\n",
        "    Theta_B = [0,0]\n",
        "    X_Batches ,Y_Batches = Divide_Batches(X,Y,No_Batches)\n",
        "    Cost_History=[]\n",
        "    Theta_0_History=[]\n",
        "    Theta_1_History=[]\n",
        "    Hypotheses_History=[]\n",
        "    \n",
        "    i=0\n",
        "    for i in range(Epochs):\n",
        "        for j in range(No_Batches):\n",
        "            m = len(X_Batches[j])\n",
        "            Hypotheses_B = Theta_B[0]+Theta_B[1]*X_Batches[j]\n",
        "            Hypotheses_History.append(Hypotheses_B)\n",
        "            \n",
        "            Cost_B = (1/(2*m)) * np.sum((Hypotheses_B-Y_Batches[j])**2)\n",
        "            Cost_History.append(Cost_B)\n",
        "            \n",
        "            Theta_B[0] -= (Learnig_rate/m)*np.sum(Hypotheses_B-Y_Batches[j])\n",
        "            Theta_0_History.append(Theta_B[0])\n",
        "            Theta_B[1] -= (Learnig_rate/m)*np.dot((Hypotheses_B-Y_Batches[j]),X_Batches[j])\n",
        "            Theta_1_History.append(Theta_B[1])\n",
        "        \n",
        "        Hypotheses = Theta_B[0]+Theta_B[1]*X\n",
        "        error = (1/m)*np.sum(Hypotheses - Y)\n",
        "        if error <= 0.001:\n",
        "            break\n",
        "    print(\"Number of epoches stop = \",i )\n",
        "        \n",
        "    return Theta_B,Cost_History,Theta_0_History, Theta_1_History,Hypotheses_History\n",
        "            "
      ],
      "execution_count": null,
      "outputs": []
    },
    {
      "cell_type": "code",
      "metadata": {
        "id": "fQMWrzsww7w_",
        "outputId": "bef46c14-8927-4fa1-ca5f-9bb35135bcd4"
      },
      "source": [
        "Theta_B,Cost_History,Theta_0_History, Theta_1_History,Hypotheses_History =Mini_Batch_GD(X,Y, 0.001,100,1)\n",
        "Theta_B"
      ],
      "execution_count": null,
      "outputs": [
        {
          "output_type": "stream",
          "text": [
            "Number of epoches stop =  28\n"
          ],
          "name": "stdout"
        },
        {
          "output_type": "execute_result",
          "data": {
            "text/plain": [
              "[-0.13189728331162534, -1.8875131875364934]"
            ]
          },
          "metadata": {
            "tags": []
          },
          "execution_count": 69
        }
      ]
    },
    {
      "cell_type": "code",
      "metadata": {
        "id": "HFbj6X7Iw7xA",
        "outputId": "41f4c3ea-b22c-493c-c111-c9cc74d4c0ad"
      },
      "source": [
        "Y_predict = Theta_B[0] + Theta[1]*X\n",
        "Hypotheses_History.append(Y_predict)\n",
        "r2_score(Y,Y_predict)"
      ],
      "execution_count": null,
      "outputs": [
        {
          "output_type": "execute_result",
          "data": {
            "text/plain": [
              "0.9970337286184593"
            ]
          },
          "metadata": {
            "tags": []
          },
          "execution_count": 70
        }
      ]
    },
    {
      "cell_type": "code",
      "metadata": {
        "id": "DZ-0eOL2w7xB",
        "outputId": "287306e9-9841-4249-b50b-93692bc8a758"
      },
      "source": [
        "plt.plot(Cost_History)\n",
        "plt.show()"
      ],
      "execution_count": null,
      "outputs": [
        {
          "output_type": "display_data",
          "data": {
            "image/png": "[encoded data removed]",
            "text/plain": [
              "<Figure size 432x288 with 1 Axes>"
            ]
          },
          "metadata": {
            "tags": [],
            "needs_background": "light"
          }
        }
      ]
    },
    {
      "cell_type": "code",
      "metadata": {
        "id": "_cazyykTw7xC",
        "outputId": "d1cc04f1-2893-49a6-8392-d24623e52b80"
      },
      "source": [
        "plt.plot(Theta_0_History,Cost_History)\n",
        "plt.show()"
      ],
      "execution_count": null,
      "outputs": [
        {
          "output_type": "display_data",
          "data": {
            "image/png": "[encoded data removed]",
            "text/plain": [
              "<Figure size 432x288 with 1 Axes>"
            ]
          },
          "metadata": {
            "tags": [],
            "needs_background": "light"
          }
        }
      ]
    },
    {
      "cell_type": "code",
      "metadata": {
        "id": "pMecgbrPw7xC",
        "outputId": "b74c69d3-0446-4ed9-f39d-8c9eade7aabf"
      },
      "source": [
        "plt.plot(Theta_1_History,Cost_History)\n",
        "plt.show()"
      ],
      "execution_count": null,
      "outputs": [
        {
          "output_type": "display_data",
          "data": {
            "image/png": "[encoded data removed]",
            "text/plain": [
              "<Figure size 432x288 with 1 Axes>"
            ]
          },
          "metadata": {
            "tags": [],
            "needs_background": "light"
          }
        }
      ]
    },
    {
      "cell_type": "code",
      "metadata": {
        "id": "h_8bAt5Kw7xD",
        "outputId": "1ddafeb2-344a-4c8d-b0aa-32470b78ab9b"
      },
      "source": [
        "plt.scatter(X,Y)\n",
        "plt.plot(X,Hypotheses_History[-1],color='Red')\n",
        "plt.show()"
      ],
      "execution_count": null,
      "outputs": [
        {
          "output_type": "display_data",
          "data": {
            "image/png": "[encoded data removed]",
            "text/plain": [
              "<Figure size 432x288 with 1 Axes>"
            ]
          },
          "metadata": {
            "tags": [],
            "needs_background": "light"
          }
        }
      ]
    },
    {
      "cell_type": "code",
      "metadata": {
        "id": "RdzIZ8k5w7xD"
      },
      "source": [
        ""
      ],
      "execution_count": null,
      "outputs": []
    },
    {
      "cell_type": "code",
      "metadata": {
        "id": "LPfUXHcaw7xE"
      },
      "source": [
        ""
      ],
      "execution_count": null,
      "outputs": []
    },
    {
      "cell_type": "code",
      "metadata": {
        "id": "UmWlxjqtw7xE"
      },
      "source": [
        ""
      ],
      "execution_count": null,
      "outputs": []
    },
    {
      "cell_type": "code",
      "metadata": {
        "id": "Y0oRVFkrw7xE"
      },
      "source": [
        ""
      ],
      "execution_count": null,
      "outputs": []
    },
    {
      "cell_type": "code",
      "metadata": {
        "id": "pFumudihw7xF"
      },
      "source": [
        ""
      ],
      "execution_count": null,
      "outputs": []
    },
    {
      "cell_type": "code",
      "metadata": {
        "id": "UYN3Ulinw7xF"
      },
      "source": [
        ""
      ],
      "execution_count": null,
      "outputs": []
    },
    {
      "cell_type": "markdown",
      "metadata": {
        "id": "iDO0TkxVw7xF"
      },
      "source": [
        "## Stochastic GD"
      ]
    },
    {
      "cell_type": "markdown",
      "metadata": {
        "id": "Y7ROoZmQw7xG"
      },
      "source": [
        "#### Update the implementation of the Batch GD to beStochastic and rpeat the above plots and evaluations\n",
        "#### You can try different learning rate and see its effect.\n",
        "#### Compare to Batch and Mini-Batch GD"
      ]
    },
    {
      "cell_type": "code",
      "metadata": {
        "id": "u1xTkDl-w7xH"
      },
      "source": [
        "def Stochastic_GD_withMiniBatches(X,Y,Learning_rate,Epochs):\n",
        "    Theta_S = [0,0]\n",
        "    X_Batches ,Y_Batches = Divide_Batches(X,Y,len(X))\n",
        "    Cost_History=[]\n",
        "    Theta_0_History=[]\n",
        "    Theta_1_History=[]\n",
        "    Hypotheses_History=[]\n",
        "    i=0\n",
        "    for i in range(Epochs):\n",
        "        for j in range(len(X_Batches)):\n",
        "            Hypotheses_B = Theta_S[0]+Theta_S[1]*X_Batches[j]\n",
        "            \n",
        "            Hypotheses_History.append(Hypotheses_B)\n",
        "            Cost_B = np.sum((Hypotheses_B-Y_Batches[j])**2)\n",
        "            Cost_History.append(Cost_B)\n",
        "            \n",
        "            Theta_S[0] -= Learning_rate*np.sum(Hypotheses_B-Y_Batches[j])\n",
        "            Theta_0_History.append(Theta_S[0])\n",
        "            \n",
        "            Theta_S[1] -= Learning_rate*np.dot((Hypotheses_B-Y_Batches[j]),X_Batches[j])\n",
        "            Theta_1_History.append(Theta_S[1])\n",
        "            \n",
        "        \n",
        "    return Theta_S ,Cost_History,Theta_0_History, Theta_1_History,Hypotheses_History\n",
        "    "
      ],
      "execution_count": null,
      "outputs": []
    },
    {
      "cell_type": "code",
      "metadata": {
        "id": "D_yahyk6w7xI",
        "outputId": "5392e904-d98c-42c9-ce97-d6ec0c1576c7"
      },
      "source": [
        "Theta_S,Cost_History_S,Theta_0_History_S, Theta_1_History_S,Hypotheses_History_S = Stochastic_GD_withMiniBatches(X,Y,0.0001,100)\n",
        "Theta_S"
      ],
      "execution_count": null,
      "outputs": [
        {
          "output_type": "execute_result",
          "data": {
            "text/plain": [
              "[-0.01421715367212408, -1.9295673109552176]"
            ]
          },
          "metadata": {
            "tags": []
          },
          "execution_count": 123
        }
      ]
    },
    {
      "cell_type": "code",
      "metadata": {
        "id": "8GP2SQQhw7xI",
        "outputId": "193ecf41-c370-4be0-c713-c2779fbf5090"
      },
      "source": [
        "Y_pre_Stochastic = Theta_S[0] + Theta_S[1]*X\n",
        "Hypotheses_History_S.append(Y_pre_Stochastic)\n",
        "r2_score(Y,Y_pre_Stochastic)"
      ],
      "execution_count": null,
      "outputs": [
        {
          "output_type": "execute_result",
          "data": {
            "text/plain": [
              "0.9980678139627714"
            ]
          },
          "metadata": {
            "tags": []
          },
          "execution_count": 124
        }
      ]
    },
    {
      "cell_type": "code",
      "metadata": {
        "id": "fYWhdd-Aw7xJ",
        "outputId": "f42808f9-4211-4a17-f72e-f94055510adb"
      },
      "source": [
        "plt.plot(Cost_History_S)\n",
        "plt.show()"
      ],
      "execution_count": null,
      "outputs": [
        {
          "output_type": "display_data",
          "data": {
            "image/png": "[encoded data removed]",
            "text/plain": [
              "<Figure size 432x288 with 1 Axes>"
            ]
          },
          "metadata": {
            "tags": [],
            "needs_background": "light"
          }
        }
      ]
    },
    {
      "cell_type": "code",
      "metadata": {
        "id": "xQflp49iw7xJ",
        "outputId": "bca13835-a904-40d6-dfb1-a7c323febf57"
      },
      "source": [
        "plt.plot(Theta_0_History_S,Cost_History_S)\n",
        "plt.show()"
      ],
      "execution_count": null,
      "outputs": [
        {
          "output_type": "display_data",
          "data": {
            "image/png": "[encoded data removed]",
            "text/plain": [
              "<Figure size 432x288 with 1 Axes>"
            ]
          },
          "metadata": {
            "tags": [],
            "needs_background": "light"
          }
        }
      ]
    },
    {
      "cell_type": "code",
      "metadata": {
        "id": "ozng9llww7xK",
        "outputId": "c2e15d5c-1689-48b2-8bb9-82c7e2fa1aaf"
      },
      "source": [
        "plt.plot(Theta_1_History_S,Cost_History_S)\n",
        "plt.show()"
      ],
      "execution_count": null,
      "outputs": [
        {
          "output_type": "display_data",
          "data": {
            "image/png": "[encoded data removed]",
            "text/plain": [
              "<Figure size 432x288 with 1 Axes>"
            ]
          },
          "metadata": {
            "tags": [],
            "needs_background": "light"
          }
        }
      ]
    },
    {
      "cell_type": "code",
      "metadata": {
        "id": "PpGUsiwpw7xK",
        "outputId": "4a2b648a-57f8-4b4a-cafe-5c1c835f64a6"
      },
      "source": [
        "plt.scatter(X,Y)\n",
        "plt.plot(X,Hypotheses_History_S[-1],color='Red')\n",
        "plt.show()"
      ],
      "execution_count": null,
      "outputs": [
        {
          "output_type": "display_data",
          "data": {
            "image/png": "[encoded data removed]",
            "text/plain": [
              "<Figure size 432x288 with 1 Axes>"
            ]
          },
          "metadata": {
            "tags": [],
            "needs_background": "light"
          }
        }
      ]
    },
    {
      "cell_type": "code",
      "metadata": {
        "id": "Mj5IWcplw7xL"
      },
      "source": [
        ""
      ],
      "execution_count": null,
      "outputs": []
    },
    {
      "cell_type": "code",
      "metadata": {
        "id": "GXft4ifiw7xL"
      },
      "source": [
        ""
      ],
      "execution_count": null,
      "outputs": []
    },
    {
      "cell_type": "code",
      "metadata": {
        "id": "_MMj_RcUw7xL"
      },
      "source": [
        ""
      ],
      "execution_count": null,
      "outputs": []
    },
    {
      "cell_type": "code",
      "metadata": {
        "id": "QfuCPSqZw7xL"
      },
      "source": [
        ""
      ],
      "execution_count": null,
      "outputs": []
    },
    {
      "cell_type": "code",
      "metadata": {
        "id": "fdtPdlUFw7xM"
      },
      "source": [
        ""
      ],
      "execution_count": null,
      "outputs": []
    },
    {
      "cell_type": "code",
      "metadata": {
        "id": "TtFj883bw7xM"
      },
      "source": [
        ""
      ],
      "execution_count": null,
      "outputs": []
    },
    {
      "cell_type": "code",
      "metadata": {
        "id": "RuEu2DOmw7xM"
      },
      "source": [
        ""
      ],
      "execution_count": null,
      "outputs": []
    },
    {
      "cell_type": "code",
      "metadata": {
        "id": "ltfSqlLxw7xM"
      },
      "source": [
        ""
      ],
      "execution_count": null,
      "outputs": []
    },
    {
      "cell_type": "code",
      "metadata": {
        "id": "T_xJ4VTuw7xN"
      },
      "source": [
        ""
      ],
      "execution_count": null,
      "outputs": []
    }
  ]
}
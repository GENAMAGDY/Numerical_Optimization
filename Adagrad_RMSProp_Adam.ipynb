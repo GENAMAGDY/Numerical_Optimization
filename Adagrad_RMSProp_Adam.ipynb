{
  "nbformat": 4,
  "nbformat_minor": 0,
  "metadata": {
    "kernelspec": {
      "display_name": "Python 3",
      "language": "python",
      "name": "python3"
    },
    "language_info": {
      "codemirror_mode": {
        "name": "ipython",
        "version": 3
      },
      "file_extension": ".py",
      "mimetype": "text/x-python",
      "name": "python",
      "nbconvert_exporter": "python",
      "pygments_lexer": "ipython3",
      "version": "3.8.5"
    },
    "colab": {
      "name": "(Gena Magdy) Practical Session 4 Adagrad-RMSProp-Adam.ipynb",
      "provenance": [],
      "collapsed_sections": [],
      "include_colab_link": true
    }
  },
  "cells": [
    {
      "cell_type": "markdown",
      "metadata": {
        "id": "view-in-github",
        "colab_type": "text"
      },
      "source": [
        "<a href=\"https://colab.research.google.com/github/GENAMAGDY/Numerical_Optimization/blob/main/Adagrad_RMSProp_Adam.ipynb\" target=\"_parent\"><img src=\"https://colab.research.google.com/assets/colab-badge.svg\" alt=\"Open In Colab\"/></a>"
      ]
    },
    {
      "cell_type": "markdown",
      "metadata": {
        "id": "5uIc54YBL8ZF"
      },
      "source": [
        "## Practical Work 4"
      ]
    },
    {
      "cell_type": "markdown",
      "metadata": {
        "id": "VQJ48dEBL8ZP"
      },
      "source": [
        "For this practical work, the student will have to develop a Python program that is able to implement the accelerated gradient descent methods with adaptive learning rate <b>(Adagrad, RMSProp, and Adam)</b> in order to achieve the linear regression of a set of datapoints."
      ]
    },
    {
      "cell_type": "markdown",
      "metadata": {
        "id": "KUfb0GwAL8ZW"
      },
      "source": [
        "#### Import numpy, matplotlib.pyplot and make it inline"
      ]
    },
    {
      "cell_type": "code",
      "metadata": {
        "id": "7N1Z-AO_L8Za"
      },
      "source": [
        "import numpy as np\n",
        "import matplotlib.pyplot as plt\n",
        "from sklearn.metrics import r2_score "
      ],
      "execution_count": null,
      "outputs": []
    },
    {
      "cell_type": "markdown",
      "metadata": {
        "id": "wi73MtGXL8Zb"
      },
      "source": [
        "To have a dataset or set of data points, the student must generate a pair of arrays <b>X</b> and <b>y</b> with the values in <b>X</b> equally distributed between <b>0</b> and <b>20</b> and the values in <b>y</b> such that: \n",
        "<b>yi = a*xi + b (and a = -1, b = 2)</b>\n"
      ]
    },
    {
      "cell_type": "code",
      "metadata": {
        "id": "jHHUzfApL8Zd"
      },
      "source": [
        "X = np.linspace(0,20)\n",
        "Y = -1*X+2"
      ],
      "execution_count": null,
      "outputs": []
    },
    {
      "cell_type": "code",
      "metadata": {
        "id": "g0TDQsMEL8Zg",
        "colab": {
          "base_uri": "https://localhost:8080/"
        },
        "outputId": "4449d693-6f6b-49f8-8f8c-f32ed2e38f21"
      },
      "source": [
        "print(\"X = \",X)\n",
        "print(\"Y = \",Y)"
      ],
      "execution_count": null,
      "outputs": [
        {
          "output_type": "stream",
          "text": [
            "X =  [ 0.          0.40816327  0.81632653  1.2244898   1.63265306  2.04081633\n",
            "  2.44897959  2.85714286  3.26530612  3.67346939  4.08163265  4.48979592\n",
            "  4.89795918  5.30612245  5.71428571  6.12244898  6.53061224  6.93877551\n",
            "  7.34693878  7.75510204  8.16326531  8.57142857  8.97959184  9.3877551\n",
            "  9.79591837 10.20408163 10.6122449  11.02040816 11.42857143 11.83673469\n",
            " 12.24489796 12.65306122 13.06122449 13.46938776 13.87755102 14.28571429\n",
            " 14.69387755 15.10204082 15.51020408 15.91836735 16.32653061 16.73469388\n",
            " 17.14285714 17.55102041 17.95918367 18.36734694 18.7755102  19.18367347\n",
            " 19.59183673 20.        ]\n",
            "Y =  [  2.           1.59183673   1.18367347   0.7755102    0.36734694\n",
            "  -0.04081633  -0.44897959  -0.85714286  -1.26530612  -1.67346939\n",
            "  -2.08163265  -2.48979592  -2.89795918  -3.30612245  -3.71428571\n",
            "  -4.12244898  -4.53061224  -4.93877551  -5.34693878  -5.75510204\n",
            "  -6.16326531  -6.57142857  -6.97959184  -7.3877551   -7.79591837\n",
            "  -8.20408163  -8.6122449   -9.02040816  -9.42857143  -9.83673469\n",
            " -10.24489796 -10.65306122 -11.06122449 -11.46938776 -11.87755102\n",
            " -12.28571429 -12.69387755 -13.10204082 -13.51020408 -13.91836735\n",
            " -14.32653061 -14.73469388 -15.14285714 -15.55102041 -15.95918367\n",
            " -16.36734694 -16.7755102  -17.18367347 -17.59183673 -18.        ]\n"
          ],
          "name": "stdout"
        }
      ]
    },
    {
      "cell_type": "markdown",
      "metadata": {
        "id": "pb_kffcIL8Zh"
      },
      "source": [
        "#### Plot your data points. "
      ]
    },
    {
      "cell_type": "code",
      "metadata": {
        "scrolled": false,
        "id": "FELKon0AL8Zx",
        "colab": {
          "base_uri": "https://localhost:8080/",
          "height": 265
        },
        "outputId": "30234f3b-cf2e-4d12-c7d0-319328bcab98"
      },
      "source": [
        "plt.scatter(X,Y)\n",
        "plt.show()"
      ],
      "execution_count": null,
      "outputs": [
        {
          "output_type": "display_data",
          "data": {
            "image/png": "[encoded data removed]",
            "text/plain": [
              "<Figure size 432x288 with 1 Axes>"
            ]
          },
          "metadata": {
            "tags": [],
            "needs_background": "light"
          }
        }
      ]
    },
    {
      "cell_type": "markdown",
      "metadata": {
        "id": "-MU4FLs_L8Z1"
      },
      "source": [
        "## Adagrad"
      ]
    },
    {
      "cell_type": "markdown",
      "metadata": {
        "id": "8C0VRSlqL8Z3"
      },
      "source": [
        "### For a single variable linear regression ML model, build a function to find the optimum Theta_0 and Theta_1 parameters using Adagrad optimization algorithm.\n",
        "#### The funtion should have the following input parameters:\n",
        "##### 1. Input data as a matrix (or vector based on your data).\n",
        "##### 2. Target label as a vector.\n",
        "##### 3. Learning rate.\n",
        "##### 4. Epsilon.\n",
        "##### 5. Maximum number of iterations (Epochs).\n",
        "#### The funtion should return the following outputs:\n",
        "##### 1. All predicted Theta_0 in all iterations.\n",
        "##### 2. All predicted Theta_1 in all iterations.\n",
        "##### 3. Corresponding loss for each Theta_0 and Theta_1 predictions.\n",
        "##### 4.All hypothesis outputs (prdicted labels) for each Theta_0 and Theta_1 predictions.\n",
        "##### 5.Final Optimum values of Theta_0 and Theta_1.\n",
        "#### Choose the suitable number of iterations, learning rate, Epsilon, and stop criteria.\n",
        "#### Calculate r2 score. Shouldn't below 0.9\n",
        "#### Plot the required curves (loss-epochs, loss-theta0, loss-theta1, all fitted lines per epoch (single graph), best fit line)\n",
        "#### Try different values of the huperparameters and see the differnce in your results."
      ]
    },
    {
      "cell_type": "markdown",
      "metadata": {
        "id": "tsxFvXVNL8Z5"
      },
      "source": [
        "![image.png](attachment:image.png)"
      ]
    },
    {
      "cell_type": "code",
      "metadata": {
        "id": "yDYzVKD5L8Z7"
      },
      "source": [
        "def Adagrad(X,Y, lr, Epsilon , Iterations):\n",
        "  Theta = [0,0]\n",
        "  V_0=[0]\n",
        "  V_1=[0]\n",
        "  m=len(X)\n",
        "\n",
        "  Hypotheses_his=[]\n",
        "  Cost_his=[]\n",
        "  Theta_0 =[]\n",
        "  Theta_1=[]\n",
        "\n",
        "  i=0\n",
        "  for i in range(Iterations):\n",
        "\n",
        "    Hps = Theta[0] + Theta[1]*X\n",
        "    Hypotheses_his.append(Hps)\n",
        "\n",
        "    Cost = (1/(2*m))*np.sum((Hps-Y)**2)\n",
        "    Cost_his.append(Cost)\n",
        "    if  Cost<= 0.00001:\n",
        "      break\n",
        "    \n",
        "\n",
        "    grad_0 = (1/m)*np.sum(Hps-Y)\n",
        "    V_next_0 = V_0[-1] + (grad_0**2)\n",
        "    Theta[0] -= (lr/(np.sqrt(V_next_0)+Epsilon)) * (grad_0)\n",
        "    Theta_0.append(Theta[0])\n",
        "\n",
        "    grad_1 = ((1/m)*np.sum((Hps-Y)*X))\n",
        "    V_next_1 = V_1[-1] + (grad_1**2)\n",
        "    Theta[1] -= (lr/(np.sqrt(V_next_1)+Epsilon)) * grad_1\n",
        "    Theta_1.append(Theta[1])\n",
        "    \n",
        "    \n",
        "\n",
        "  \n",
        "  Hps=Theta[0]+Theta[1]*X\n",
        "  Hypotheses_his.append(Hps)\n",
        "  print(\"Number of Iterations = \", i)\n",
        "  return Hypotheses_his, Cost_his, Theta_0, Theta_1"
      ],
      "execution_count": null,
      "outputs": []
    },
    {
      "cell_type": "code",
      "metadata": {
        "id": "gGf3RC6WL8Z9",
        "colab": {
          "base_uri": "https://localhost:8080/"
        },
        "outputId": "d34a786e-cc2f-4772-f9be-e67276473250"
      },
      "source": [
        "Hypotheses_his_Adagrad, Cost_his_Adagrad, Theta_0_Adagrad, Theta_1_Adagrad = Adagrad(X,Y,0.01, 1e-8 , 1000)"
      ],
      "execution_count": null,
      "outputs": [
        {
          "output_type": "stream",
          "text": [
            "Number of Iterations =  999\n"
          ],
          "name": "stdout"
        }
      ]
    },
    {
      "cell_type": "code",
      "metadata": {
        "id": "HROR61PXL8aJ",
        "colab": {
          "base_uri": "https://localhost:8080/",
          "height": 265
        },
        "outputId": "846cda18-eedb-49e0-fe47-10cbae686768"
      },
      "source": [
        "plt.plot(Cost_his_Adagrad)\n",
        "plt.show()"
      ],
      "execution_count": null,
      "outputs": [
        {
          "output_type": "display_data",
          "data": {
            "image/png": "[encoded data removed]",
            "text/plain": [
              "<Figure size 432x288 with 1 Axes>"
            ]
          },
          "metadata": {
            "tags": [],
            "needs_background": "light"
          }
        }
      ]
    },
    {
      "cell_type": "code",
      "metadata": {
        "id": "Du44pWzvL8aK",
        "colab": {
          "base_uri": "https://localhost:8080/",
          "height": 265
        },
        "outputId": "8d4008ba-2575-47a4-a1e8-78828504247f"
      },
      "source": [
        "plt.plot(Theta_0_Adagrad,Cost_his_Adagrad)\n",
        "plt.show()"
      ],
      "execution_count": null,
      "outputs": [
        {
          "output_type": "display_data",
          "data": {
            "image/png": "[encoded data removed]",
            "text/plain": [
              "<Figure size 432x288 with 1 Axes>"
            ]
          },
          "metadata": {
            "tags": [],
            "needs_background": "light"
          }
        }
      ]
    },
    {
      "cell_type": "code",
      "metadata": {
        "id": "0AAePlg5L8aL",
        "colab": {
          "base_uri": "https://localhost:8080/",
          "height": 265
        },
        "outputId": "1275c02f-81d0-425b-dcdc-5d8f1e5cd86e"
      },
      "source": [
        "plt.plot(Theta_1_Adagrad,Cost_his_Adagrad)\n",
        "plt.show()"
      ],
      "execution_count": null,
      "outputs": [
        {
          "output_type": "display_data",
          "data": {
            "image/png": "[encoded data removed]",
            "text/plain": [
              "<Figure size 432x288 with 1 Axes>"
            ]
          },
          "metadata": {
            "tags": [],
            "needs_background": "light"
          }
        }
      ]
    },
    {
      "cell_type": "code",
      "metadata": {
        "colab": {
          "base_uri": "https://localhost:8080/",
          "height": 265
        },
        "id": "zMBdm-1YP_vl",
        "outputId": "e26d6b18-d8d4-4b9a-9269-4f783d61f032"
      },
      "source": [
        "plt.scatter(X,Y)\n",
        "plt.plot(X,Hypotheses_his_Adagrad[-1],color=\"Red\")\n",
        "plt.show()"
      ],
      "execution_count": null,
      "outputs": [
        {
          "output_type": "display_data",
          "data": {
            "image/png": "[encoded data removed]",
            "text/plain": [
              "<Figure size 432x288 with 1 Axes>"
            ]
          },
          "metadata": {
            "tags": [],
            "needs_background": "light"
          }
        }
      ]
    },
    {
      "cell_type": "code",
      "metadata": {
        "colab": {
          "base_uri": "https://localhost:8080/"
        },
        "id": "Eb-51m3NQAPr",
        "outputId": "992d44cd-f2ce-4fed-9a2a-1717f0da47ba"
      },
      "source": [
        "r2_score(Y,Hypotheses_his_Adagrad[-1])"
      ],
      "execution_count": null,
      "outputs": [
        {
          "output_type": "execute_result",
          "data": {
            "text/plain": [
              "0.9993107335121973"
            ]
          },
          "metadata": {
            "tags": []
          },
          "execution_count": 102
        }
      ]
    },
    {
      "cell_type": "code",
      "metadata": {
        "colab": {
          "base_uri": "https://localhost:8080/"
        },
        "id": "xq8X86Q2QAS_",
        "outputId": "ae85d0cf-b714-4014-f635-00632a50444a"
      },
      "source": [
        "print('Theta 0 = {} , Theta 1 = {}'.format(Theta_0_Adagrad[-1],Theta_1_Adagrad[-1]))"
      ],
      "execution_count": null,
      "outputs": [
        {
          "output_type": "stream",
          "text": [
            "Theta 0 = 1.7025222189102198 , Theta 1 = -0.9801053076852125\n"
          ],
          "name": "stdout"
        }
      ]
    },
    {
      "cell_type": "markdown",
      "metadata": {
        "id": "ABR-_eJXL8aM"
      },
      "source": [
        "## RMSProp"
      ]
    },
    {
      "cell_type": "markdown",
      "metadata": {
        "id": "r65qQJ94L8aO"
      },
      "source": [
        "### Update the previos implementation to be RMSProp.\n",
        "#### Compare your results with Adagrad results."
      ]
    },
    {
      "cell_type": "markdown",
      "metadata": {
        "id": "-ixntNGEL8aP"
      },
      "source": [
        "![image.png](attachment:image.png)"
      ]
    },
    {
      "cell_type": "code",
      "metadata": {
        "id": "WJvG93YuL8aP"
      },
      "source": [
        "def RMSProp(X, Y, lr, Beta, Epsilon, Iterations):\n",
        "  Theta=[0,0]\n",
        "  V_0=[0]\n",
        "  V_1=[0]\n",
        "  m=len(X)\n",
        "  Hypotheses_his=[]\n",
        "  Cost_his=[]\n",
        "  Theta_0=[]\n",
        "  Theta_1=[]\n",
        "  i=0\n",
        "  for i in range(Iterations):\n",
        "    Hps = Theta[0] + Theta[1]*X\n",
        "    Hypotheses_his.append(Hps)\n",
        "    \n",
        "    Cost = (1/(2*m))*np.sum((Hps-Y)**2)\n",
        "    if Cost <= 0.00001:\n",
        "      break\n",
        "    Cost_his.append(Cost)\n",
        " \n",
        "    grad_0 = (1/m)*np.sum(Hps-Y)\n",
        "    V_next_0 = Beta*V_0[-1] + (1-Beta)*(grad_0**2)\n",
        "    V_0.append(V_next_0)\n",
        "    Theta[0] -= (lr/(np.sqrt(V_next_0)+Epsilon))*grad_0\n",
        "    Theta_0.append(Theta[0])\n",
        "\n",
        "    grad_1 = (1/m)*np.sum((Hps-Y)*X)\n",
        "    V_next_1 = Beta*V_1[-1] + (1-Beta)*(grad_1**2)\n",
        "    V_1.append(V_next_1)\n",
        "    Theta[1] -= (lr/(np.sqrt(V_next_1)+Epsilon))*grad_1\n",
        "    Theta_1.append(Theta[1])\n",
        "\n",
        "\n",
        "  Hps = Theta[0] + Theta[1]*X\n",
        "  Hypotheses_his.append(Hps)\n",
        "\n",
        "  print(\"Number of Iterations = \",i)\n",
        "  return Hypotheses_his, Cost_his, Theta_0 ,Theta_1"
      ],
      "execution_count": null,
      "outputs": []
    },
    {
      "cell_type": "code",
      "metadata": {
        "id": "k3OKlQhML8aQ",
        "colab": {
          "base_uri": "https://localhost:8080/"
        },
        "outputId": "e38481b1-3dec-44b3-ff40-455b36fed211"
      },
      "source": [
        "Hypotheses_his_R, Cost_his_R, Theta_0_R ,Theta_1_R = RMSProp(X, Y, 0.01, 0.9, 1e-5 , 1000)"
      ],
      "execution_count": null,
      "outputs": [
        {
          "output_type": "stream",
          "text": [
            "Number of Iterations =  999\n"
          ],
          "name": "stdout"
        }
      ]
    },
    {
      "cell_type": "code",
      "metadata": {
        "id": "llkRI87WL8aS",
        "colab": {
          "base_uri": "https://localhost:8080/",
          "height": 265
        },
        "outputId": "33d63763-0bf8-4da3-ff90-557a80b3b9cf"
      },
      "source": [
        "plt.plot(Cost_his_R)\n",
        "plt.show()"
      ],
      "execution_count": null,
      "outputs": [
        {
          "output_type": "display_data",
          "data": {
            "image/png": "[encoded data removed]",
            "text/plain": [
              "<Figure size 432x288 with 1 Axes>"
            ]
          },
          "metadata": {
            "tags": [],
            "needs_background": "light"
          }
        }
      ]
    },
    {
      "cell_type": "code",
      "metadata": {
        "id": "12EC0JCuL8aS",
        "colab": {
          "base_uri": "https://localhost:8080/",
          "height": 265
        },
        "outputId": "a0311d97-6fb6-4a80-b45f-84752fd8360f"
      },
      "source": [
        "plt.plot(Theta_0_R,Cost_his_R)\n",
        "plt.show()"
      ],
      "execution_count": null,
      "outputs": [
        {
          "output_type": "display_data",
          "data": {
            "image/png": "[encoded data removed]",
            "text/plain": [
              "<Figure size 432x288 with 1 Axes>"
            ]
          },
          "metadata": {
            "tags": [],
            "needs_background": "light"
          }
        }
      ]
    },
    {
      "cell_type": "code",
      "metadata": {
        "id": "d-Hpr0kvL8aT",
        "colab": {
          "base_uri": "https://localhost:8080/",
          "height": 265
        },
        "outputId": "108b8890-4007-416d-88e3-8e61e5024827"
      },
      "source": [
        "plt.plot(Theta_1_R,Cost_his_R)\n",
        "plt.show()"
      ],
      "execution_count": null,
      "outputs": [
        {
          "output_type": "display_data",
          "data": {
            "image/png": "[encoded data removed]",
            "text/plain": [
              "<Figure size 432x288 with 1 Axes>"
            ]
          },
          "metadata": {
            "tags": [],
            "needs_background": "light"
          }
        }
      ]
    },
    {
      "cell_type": "code",
      "metadata": {
        "colab": {
          "base_uri": "https://localhost:8080/",
          "height": 265
        },
        "id": "AIRLQQO6Rf5k",
        "outputId": "6648c651-2d2c-4321-dd9a-f1901db74642"
      },
      "source": [
        "plt.scatter(X,Y)\n",
        "plt.plot(X,Hypotheses_his_R[-1],color='Red')\n",
        "plt.show()"
      ],
      "execution_count": null,
      "outputs": [
        {
          "output_type": "display_data",
          "data": {
            "image/png": "[encoded data removed]",
            "text/plain": [
              "<Figure size 432x288 with 1 Axes>"
            ]
          },
          "metadata": {
            "tags": [],
            "needs_background": "light"
          }
        }
      ]
    },
    {
      "cell_type": "code",
      "metadata": {
        "id": "Nh9eiu1ZL8aR",
        "colab": {
          "base_uri": "https://localhost:8080/"
        },
        "outputId": "a96a5676-7a4f-4ebb-ed13-969766eb8393"
      },
      "source": [
        "r2_score(Y,Hypotheses_his_R[-1])"
      ],
      "execution_count": null,
      "outputs": [
        {
          "output_type": "execute_result",
          "data": {
            "text/plain": [
              "0.99988781458775"
            ]
          },
          "metadata": {
            "tags": []
          },
          "execution_count": 34
        }
      ]
    },
    {
      "cell_type": "markdown",
      "metadata": {
        "id": "5f6e8heiL8aX"
      },
      "source": [
        "## Adam"
      ]
    },
    {
      "cell_type": "markdown",
      "metadata": {
        "id": "BidNqSsjL8aY"
      },
      "source": [
        "### Update the previos implementation to be Adam.\n",
        "#### Compare your results with Adagrad and RMSProp results."
      ]
    },
    {
      "cell_type": "markdown",
      "metadata": {
        "id": "3i5qRXYPL8aZ"
      },
      "source": [
        "![image-4.png](attachment:image-4.png)"
      ]
    },
    {
      "cell_type": "code",
      "metadata": {
        "id": "U17WQaJOL8aZ"
      },
      "source": [
        "def Adam_withBaisCorrection(X, Y, lr, Beta_1,Beta_2, Epsilon, Iterations):\n",
        "  Theta=[0,0]\n",
        "  V_next_0=0\n",
        "  V_next_1=0\n",
        "  m=len(X)\n",
        "  Hypotheses_his=[]\n",
        "  Cost_his=[]\n",
        "  Theta_0=[]\n",
        "  Theta_1=[]\n",
        "  m_0=0\n",
        "  m_1=0\n",
        "  i=0\n",
        "  t=0\n",
        "  for i in range(Iterations):\n",
        "    t+=1\n",
        "    Hps = Theta[0] + Theta[1]*X\n",
        "    Hypotheses_his.append(Hps)\n",
        "    \n",
        "    Cost = (1/(2*m))*np.sum((Hps-Y)**2)\n",
        "    if Cost <= 0.00001:\n",
        "      break\n",
        "    Cost_his.append(Cost)\n",
        "\n",
        " \n",
        "    grad_0 = (1/m)*np.sum(Hps-Y)\n",
        "    m_0= Beta_1*m_0 + (1-Beta_1)*(grad_0)\n",
        "    V_next_0 = Beta_2*V_next_0 + (1-Beta_2)*(grad_0**2)\n",
        "\n",
        "    V_next_0_ = V_next_0/(1-Beta_2**t)\n",
        "    m_0_ = m_0 / (1-Beta_1**t)\n",
        "    Theta[0] -= (lr/(np.sqrt(V_next_0_)+Epsilon))*m_0_\n",
        "    Theta_0.append(Theta[0])\n",
        "\n",
        "\n",
        "    grad_1 = (1/m)*X.dot(Hps-Y)\n",
        "    m_1=Beta_1*m_1+ (1-Beta_1)*(grad_1)\n",
        "    V_next_1 = Beta_2*V_next_1 + (1-Beta_2)*(grad_1**2)\n",
        "\n",
        "    V_next_1_ = V_next_1/(1-Beta_2**t)\n",
        "    m_1_ = m_1 / (1-Beta_1**t)\n",
        "\n",
        "    Theta[1] -= (lr/(np.sqrt(V_next_1_)+Epsilon))*m_1_\n",
        "    Theta_1.append(Theta[1])\n",
        "\n",
        "\n",
        "\n",
        "    \n",
        "  Hps = Theta[0] + Theta[1]*X\n",
        "  Hypotheses_his.append(Hps)\n",
        "\n",
        "  print(\"Number of Iterations = \",i)\n",
        "  return Hypotheses_his, Cost_his, Theta_0 ,Theta_1\n",
        "  "
      ],
      "execution_count": null,
      "outputs": []
    },
    {
      "cell_type": "code",
      "metadata": {
        "id": "7YfR4JFuL8aa",
        "colab": {
          "base_uri": "https://localhost:8080/"
        },
        "outputId": "71c72d0f-7785-4e40-fc37-12e2b2bfd22b"
      },
      "source": [
        "Hypotheses_his_C, Cost_his_C, Theta_0_C ,Theta_1_C = Adam_withBaisCorrection(X, Y, 0.1, 0.9,0.99, 1e-5, 1000)"
      ],
      "execution_count": null,
      "outputs": [
        {
          "output_type": "stream",
          "text": [
            "Number of Iterations =  217\n"
          ],
          "name": "stdout"
        }
      ]
    },
    {
      "cell_type": "code",
      "metadata": {
        "id": "VVtNoeAdL8ac",
        "colab": {
          "base_uri": "https://localhost:8080/",
          "height": 265
        },
        "outputId": "d8080962-3d5e-44f8-8c7c-0a4ec97db890"
      },
      "source": [
        "plt.plot(Cost_his_C)\n",
        "plt.show()"
      ],
      "execution_count": null,
      "outputs": [
        {
          "output_type": "display_data",
          "data": {
            "image/png": "[encoded data removed]",
            "text/plain": [
              "<Figure size 432x288 with 1 Axes>"
            ]
          },
          "metadata": {
            "tags": [],
            "needs_background": "light"
          }
        }
      ]
    },
    {
      "cell_type": "code",
      "metadata": {
        "id": "BGu3H5GRL8ad",
        "colab": {
          "base_uri": "https://localhost:8080/",
          "height": 265
        },
        "outputId": "0ba9843e-383b-4e36-94a4-a3d7cc433689"
      },
      "source": [
        "plt.plot(Theta_0_C,Cost_his_C)\n",
        "plt.show()"
      ],
      "execution_count": null,
      "outputs": [
        {
          "output_type": "display_data",
          "data": {
            "image/png": "[encoded data removed]",
            "text/plain": [
              "<Figure size 432x288 with 1 Axes>"
            ]
          },
          "metadata": {
            "tags": [],
            "needs_background": "light"
          }
        }
      ]
    },
    {
      "cell_type": "code",
      "metadata": {
        "colab": {
          "base_uri": "https://localhost:8080/",
          "height": 265
        },
        "id": "LnQYKJBNSmOz",
        "outputId": "4b301de5-b68b-493e-a6b1-27345cd2af65"
      },
      "source": [
        "plt.plot(Theta_1_C,Cost_his_C)\n",
        "plt.show()"
      ],
      "execution_count": null,
      "outputs": [
        {
          "output_type": "display_data",
          "data": {
            "image/png": "[encoded data removed]",
            "text/plain": [
              "<Figure size 432x288 with 1 Axes>"
            ]
          },
          "metadata": {
            "tags": [],
            "needs_background": "light"
          }
        }
      ]
    },
    {
      "cell_type": "code",
      "metadata": {
        "colab": {
          "base_uri": "https://localhost:8080/",
          "height": 265
        },
        "id": "SAvw4nCRSqBi",
        "outputId": "f892239c-7511-486e-a902-d7adce33b874"
      },
      "source": [
        "plt.scatter(X,Y)\n",
        "plt.plot(X,Hypotheses_his_C[-1],color='Red')\n",
        "plt.show()"
      ],
      "execution_count": null,
      "outputs": [
        {
          "output_type": "display_data",
          "data": {
            "image/png": "[encoded data removed]",
            "text/plain": [
              "<Figure size 432x288 with 1 Axes>"
            ]
          },
          "metadata": {
            "tags": [],
            "needs_background": "light"
          }
        }
      ]
    },
    {
      "cell_type": "code",
      "metadata": {
        "id": "aAMKEzWSL8ab",
        "colab": {
          "base_uri": "https://localhost:8080/"
        },
        "outputId": "ea3ec6f0-2fc5-4f88-9dd2-2748903938a5"
      },
      "source": [
        "r2_score(Y,Hypotheses_his_C[-1])"
      ],
      "execution_count": null,
      "outputs": [
        {
          "output_type": "execute_result",
          "data": {
            "text/plain": [
              "0.9999995059886377"
            ]
          },
          "metadata": {
            "tags": []
          },
          "execution_count": 53
        }
      ]
    },
    {
      "cell_type": "markdown",
      "metadata": {
        "id": "3dkyg5jhL8ad"
      },
      "source": [
        "## Congratulations \n",
        "![image.png](attachment:image.png)"
      ]
    },
    {
      "cell_type": "code",
      "metadata": {
        "id": "_DIPUqs_L8ag"
      },
      "source": [
        ""
      ],
      "execution_count": null,
      "outputs": []
    }
  ]
}